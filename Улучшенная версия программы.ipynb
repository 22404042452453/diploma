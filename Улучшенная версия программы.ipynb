{
 "cells": [
  {
   "cell_type": "markdown",
   "id": "53ede832",
   "metadata": {},
   "source": [
    "Разделяй и влавствуй"
   ]
  },
  {
   "cell_type": "code",
   "execution_count": 1,
   "id": "55d7cbdc",
   "metadata": {},
   "outputs": [],
   "source": [
    "import pandas as pd \n",
    "import os\n",
    "import numpy as np\n",
    "import matplotlib.pyplot as plt\n",
    "import random\n",
    "import seaborn as sns\n",
    "%matplotlib inline"
   ]
  },
  {
   "cell_type": "code",
   "execution_count": 2,
   "id": "194b5e80",
   "metadata": {},
   "outputs": [
    {
     "data": {
      "text/plain": [
       "[0.5, 0.5, 0.5, 0.5, 0.5, 0.5, 0.5, 0.5, 0.5, 0.5]"
      ]
     },
     "execution_count": 2,
     "metadata": {},
     "output_type": "execute_result"
    }
   ],
   "source": [
    "def nagryzka():\n",
    "    reslist = [round(random.uniform(0.1,2),2) for i in range(10)]\n",
    "    return reslist\n",
    "\n",
    "def nagryzka_revers():\n",
    "    reslist = [round(random.uniform(1,6),2) for i in range(10)]\n",
    "    return reslist\n",
    "\n",
    "def interval():\n",
    "    return [0.5 for i in range(10)]\n",
    "\n",
    "interval()"
   ]
  },
  {
   "cell_type": "markdown",
   "id": "a9bc305a",
   "metadata": {},
   "source": [
    "ПС-3"
   ]
  },
  {
   "cell_type": "code",
   "execution_count": 3,
   "id": "a49cff89",
   "metadata": {},
   "outputs": [
    {
     "data": {
      "text/html": [
       "<div>\n",
       "<style scoped>\n",
       "    .dataframe tbody tr th:only-of-type {\n",
       "        vertical-align: middle;\n",
       "    }\n",
       "\n",
       "    .dataframe tbody tr th {\n",
       "        vertical-align: top;\n",
       "    }\n",
       "\n",
       "    .dataframe thead th {\n",
       "        text-align: right;\n",
       "    }\n",
       "</style>\n",
       "<table border=\"1\" class=\"dataframe\">\n",
       "  <thead>\n",
       "    <tr style=\"text-align: right;\">\n",
       "      <th></th>\n",
       "      <th>Электроэнергиия Мвт*ч</th>\n",
       "      <th>Интервал времени</th>\n",
       "      <th>P,Мвт</th>\n",
       "      <th>Q,МВАр</th>\n",
       "      <th>S,МВA</th>\n",
       "    </tr>\n",
       "  </thead>\n",
       "  <tbody>\n",
       "    <tr>\n",
       "      <th>0</th>\n",
       "      <td>1.43</td>\n",
       "      <td>0.5</td>\n",
       "      <td>2.86</td>\n",
       "      <td>0.956388</td>\n",
       "      <td>3.015672</td>\n",
       "    </tr>\n",
       "    <tr>\n",
       "      <th>1</th>\n",
       "      <td>0.35</td>\n",
       "      <td>0.5</td>\n",
       "      <td>0.70</td>\n",
       "      <td>0.234081</td>\n",
       "      <td>0.738102</td>\n",
       "    </tr>\n",
       "    <tr>\n",
       "      <th>2</th>\n",
       "      <td>1.60</td>\n",
       "      <td>0.5</td>\n",
       "      <td>3.20</td>\n",
       "      <td>1.070084</td>\n",
       "      <td>3.374178</td>\n",
       "    </tr>\n",
       "    <tr>\n",
       "      <th>3</th>\n",
       "      <td>1.19</td>\n",
       "      <td>0.5</td>\n",
       "      <td>2.38</td>\n",
       "      <td>0.795875</td>\n",
       "      <td>2.509545</td>\n",
       "    </tr>\n",
       "    <tr>\n",
       "      <th>4</th>\n",
       "      <td>1.79</td>\n",
       "      <td>0.5</td>\n",
       "      <td>3.58</td>\n",
       "      <td>1.197157</td>\n",
       "      <td>3.774862</td>\n",
       "    </tr>\n",
       "    <tr>\n",
       "      <th>5</th>\n",
       "      <td>1.31</td>\n",
       "      <td>0.5</td>\n",
       "      <td>2.62</td>\n",
       "      <td>0.876131</td>\n",
       "      <td>2.762609</td>\n",
       "    </tr>\n",
       "    <tr>\n",
       "      <th>6</th>\n",
       "      <td>0.88</td>\n",
       "      <td>0.5</td>\n",
       "      <td>1.76</td>\n",
       "      <td>0.588546</td>\n",
       "      <td>1.855798</td>\n",
       "    </tr>\n",
       "    <tr>\n",
       "      <th>7</th>\n",
       "      <td>0.46</td>\n",
       "      <td>0.5</td>\n",
       "      <td>0.92</td>\n",
       "      <td>0.307649</td>\n",
       "      <td>0.970076</td>\n",
       "    </tr>\n",
       "    <tr>\n",
       "      <th>8</th>\n",
       "      <td>0.49</td>\n",
       "      <td>0.5</td>\n",
       "      <td>0.98</td>\n",
       "      <td>0.327713</td>\n",
       "      <td>1.033342</td>\n",
       "    </tr>\n",
       "    <tr>\n",
       "      <th>9</th>\n",
       "      <td>1.19</td>\n",
       "      <td>0.5</td>\n",
       "      <td>2.38</td>\n",
       "      <td>0.795875</td>\n",
       "      <td>2.509545</td>\n",
       "    </tr>\n",
       "  </tbody>\n",
       "</table>\n",
       "</div>"
      ],
      "text/plain": [
       "   Электроэнергиия Мвт*ч  Интервал времени  P,Мвт    Q,МВАр     S,МВA\n",
       "0                   1.43               0.5   2.86  0.956388  3.015672\n",
       "1                   0.35               0.5   0.70  0.234081  0.738102\n",
       "2                   1.60               0.5   3.20  1.070084  3.374178\n",
       "3                   1.19               0.5   2.38  0.795875  2.509545\n",
       "4                   1.79               0.5   3.58  1.197157  3.774862\n",
       "5                   1.31               0.5   2.62  0.876131  2.762609\n",
       "6                   0.88               0.5   1.76  0.588546  1.855798\n",
       "7                   0.46               0.5   0.92  0.307649  0.970076\n",
       "8                   0.49               0.5   0.98  0.327713  1.033342\n",
       "9                   1.19               0.5   2.38  0.795875  2.509545"
      ]
     },
     "execution_count": 3,
     "metadata": {},
     "output_type": "execute_result"
    }
   ],
   "source": [
    "df_35_3 = pd.DataFrame({\n",
    "    \"Электроэнергиия Мвт*ч\": nagryzka(),\n",
    "    \"Интервал времени\":interval(),\n",
    "})\n",
    "df_35_3[\"P,Мвт\"] = df_35_3[\"Электроэнергиия Мвт*ч\"]/df_35_3[\"Интервал времени\"]\n",
    "df_35_3[\"Q,МВАр\"] = df_35_3[\"P,Мвт\"] * np.tan(np.radians(round(random.uniform(13, 22),2)))\n",
    "df_35_3[\"S,МВA\"] = pow(df_35_3[\"Q,МВАр\"]**2 + df_35_3[\"P,Мвт\"]**2,0.5)\n",
    "df_35_3"
   ]
  },
  {
   "cell_type": "code",
   "execution_count": 4,
   "id": "41657788",
   "metadata": {},
   "outputs": [
    {
     "data": {
      "text/plain": [
       "<AxesSubplot:xlabel='Интервал времени'>"
      ]
     },
     "execution_count": 4,
     "metadata": {},
     "output_type": "execute_result"
    },
    {
     "data": {
      "image/png": "[encoded data removed]",
      "text/plain": [
       "<Figure size 432x288 with 1 Axes>"
      ]
     },
     "metadata": {
      "needs_background": "light"
     },
     "output_type": "display_data"
    }
   ],
   "source": [
    "df_35_3.plot.bar(y = \"Электроэнергиия Мвт*ч\",x =\"Интервал времени\")"
   ]
  },
  {
   "cell_type": "markdown",
   "id": "3352589e",
   "metadata": {},
   "source": [
    "ПС4"
   ]
  },
  {
   "cell_type": "code",
   "execution_count": 5,
   "id": "f453d7cc",
   "metadata": {},
   "outputs": [
    {
     "data": {
      "text/html": [
       "<div>\n",
       "<style scoped>\n",
       "    .dataframe tbody tr th:only-of-type {\n",
       "        vertical-align: middle;\n",
       "    }\n",
       "\n",
       "    .dataframe tbody tr th {\n",
       "        vertical-align: top;\n",
       "    }\n",
       "\n",
       "    .dataframe thead th {\n",
       "        text-align: right;\n",
       "    }\n",
       "</style>\n",
       "<table border=\"1\" class=\"dataframe\">\n",
       "  <thead>\n",
       "    <tr style=\"text-align: right;\">\n",
       "      <th></th>\n",
       "      <th>Электроэнергиия Мвт*ч</th>\n",
       "      <th>Интервал времени</th>\n",
       "      <th>P,Мвт</th>\n",
       "      <th>Q,МВАр</th>\n",
       "      <th>S,МВA</th>\n",
       "    </tr>\n",
       "  </thead>\n",
       "  <tbody>\n",
       "    <tr>\n",
       "      <th>0</th>\n",
       "      <td>1.56</td>\n",
       "      <td>0.5</td>\n",
       "      <td>3.12</td>\n",
       "      <td>1.219575</td>\n",
       "      <td>3.349890</td>\n",
       "    </tr>\n",
       "    <tr>\n",
       "      <th>1</th>\n",
       "      <td>0.27</td>\n",
       "      <td>0.5</td>\n",
       "      <td>0.54</td>\n",
       "      <td>0.211080</td>\n",
       "      <td>0.579789</td>\n",
       "    </tr>\n",
       "    <tr>\n",
       "      <th>2</th>\n",
       "      <td>1.94</td>\n",
       "      <td>0.5</td>\n",
       "      <td>3.88</td>\n",
       "      <td>1.516651</td>\n",
       "      <td>4.165889</td>\n",
       "    </tr>\n",
       "    <tr>\n",
       "      <th>3</th>\n",
       "      <td>1.95</td>\n",
       "      <td>0.5</td>\n",
       "      <td>3.90</td>\n",
       "      <td>1.524469</td>\n",
       "      <td>4.187362</td>\n",
       "    </tr>\n",
       "    <tr>\n",
       "      <th>4</th>\n",
       "      <td>1.05</td>\n",
       "      <td>0.5</td>\n",
       "      <td>2.10</td>\n",
       "      <td>0.820868</td>\n",
       "      <td>2.254734</td>\n",
       "    </tr>\n",
       "    <tr>\n",
       "      <th>5</th>\n",
       "      <td>1.82</td>\n",
       "      <td>0.5</td>\n",
       "      <td>3.64</td>\n",
       "      <td>1.422837</td>\n",
       "      <td>3.908205</td>\n",
       "    </tr>\n",
       "    <tr>\n",
       "      <th>6</th>\n",
       "      <td>0.81</td>\n",
       "      <td>0.5</td>\n",
       "      <td>1.62</td>\n",
       "      <td>0.633241</td>\n",
       "      <td>1.739366</td>\n",
       "    </tr>\n",
       "    <tr>\n",
       "      <th>7</th>\n",
       "      <td>1.50</td>\n",
       "      <td>0.5</td>\n",
       "      <td>3.00</td>\n",
       "      <td>1.172668</td>\n",
       "      <td>3.221048</td>\n",
       "    </tr>\n",
       "    <tr>\n",
       "      <th>8</th>\n",
       "      <td>0.53</td>\n",
       "      <td>0.5</td>\n",
       "      <td>1.06</td>\n",
       "      <td>0.414343</td>\n",
       "      <td>1.138104</td>\n",
       "    </tr>\n",
       "    <tr>\n",
       "      <th>9</th>\n",
       "      <td>1.24</td>\n",
       "      <td>0.5</td>\n",
       "      <td>2.48</td>\n",
       "      <td>0.969406</td>\n",
       "      <td>2.662733</td>\n",
       "    </tr>\n",
       "  </tbody>\n",
       "</table>\n",
       "</div>"
      ],
      "text/plain": [
       "   Электроэнергиия Мвт*ч  Интервал времени  P,Мвт    Q,МВАр     S,МВA\n",
       "0                   1.56               0.5   3.12  1.219575  3.349890\n",
       "1                   0.27               0.5   0.54  0.211080  0.579789\n",
       "2                   1.94               0.5   3.88  1.516651  4.165889\n",
       "3                   1.95               0.5   3.90  1.524469  4.187362\n",
       "4                   1.05               0.5   2.10  0.820868  2.254734\n",
       "5                   1.82               0.5   3.64  1.422837  3.908205\n",
       "6                   0.81               0.5   1.62  0.633241  1.739366\n",
       "7                   1.50               0.5   3.00  1.172668  3.221048\n",
       "8                   0.53               0.5   1.06  0.414343  1.138104\n",
       "9                   1.24               0.5   2.48  0.969406  2.662733"
      ]
     },
     "execution_count": 5,
     "metadata": {},
     "output_type": "execute_result"
    }
   ],
   "source": [
    "df_35_4 = pd.DataFrame({\n",
    "    \"Электроэнергиия Мвт*ч\": nagryzka(),\n",
    "    \"Интервал времени\":interval(),\n",
    "})\n",
    "df_35_4[\"P,Мвт\"] = df_35_4[\"Электроэнергиия Мвт*ч\"]/df_35_4[\"Интервал времени\"]\n",
    "df_35_4[\"Q,МВАр\"] = df_35_4[\"P,Мвт\"] * np.tan(np.radians(round(random.uniform(13, 22),2)))\n",
    "df_35_4[\"S,МВA\"] = pow(df_35_4[\"Q,МВАр\"]**2 + df_35_4[\"P,Мвт\"]**2,0.5)\n",
    "df_35_4"
   ]
  },
  {
   "cell_type": "code",
   "execution_count": 6,
   "id": "e6821c80",
   "metadata": {},
   "outputs": [
    {
     "data": {
      "text/plain": [
       "<AxesSubplot:xlabel='Интервал времени'>"
      ]
     },
     "execution_count": 6,
     "metadata": {},
     "output_type": "execute_result"
    },
    {
     "data": {
      "image/png": "[encoded data removed]",
      "text/plain": [
       "<Figure size 432x288 with 1 Axes>"
      ]
     },
     "metadata": {
      "needs_background": "light"
     },
     "output_type": "display_data"
    }
   ],
   "source": [
    "df_35_4.plot.bar(y = \"Электроэнергиия Мвт*ч\",x =\"Интервал времени\")"
   ]
  },
  {
   "cell_type": "markdown",
   "id": "57f6a653",
   "metadata": {},
   "source": [
    "ПС-5"
   ]
  },
  {
   "cell_type": "code",
   "execution_count": 7,
   "id": "338d3d31",
   "metadata": {},
   "outputs": [
    {
     "data": {
      "text/html": [
       "<div>\n",
       "<style scoped>\n",
       "    .dataframe tbody tr th:only-of-type {\n",
       "        vertical-align: middle;\n",
       "    }\n",
       "\n",
       "    .dataframe tbody tr th {\n",
       "        vertical-align: top;\n",
       "    }\n",
       "\n",
       "    .dataframe thead th {\n",
       "        text-align: right;\n",
       "    }\n",
       "</style>\n",
       "<table border=\"1\" class=\"dataframe\">\n",
       "  <thead>\n",
       "    <tr style=\"text-align: right;\">\n",
       "      <th></th>\n",
       "      <th>Электроэнергиия Мвт*ч</th>\n",
       "      <th>Интервал времени</th>\n",
       "      <th>P,Мвт</th>\n",
       "      <th>Q,МВАр</th>\n",
       "      <th>S,МВA</th>\n",
       "    </tr>\n",
       "  </thead>\n",
       "  <tbody>\n",
       "    <tr>\n",
       "      <th>0</th>\n",
       "      <td>0.73</td>\n",
       "      <td>0.5</td>\n",
       "      <td>1.46</td>\n",
       "      <td>0.431</td>\n",
       "      <td>1.522</td>\n",
       "    </tr>\n",
       "    <tr>\n",
       "      <th>1</th>\n",
       "      <td>0.94</td>\n",
       "      <td>0.5</td>\n",
       "      <td>1.88</td>\n",
       "      <td>0.555</td>\n",
       "      <td>1.960</td>\n",
       "    </tr>\n",
       "    <tr>\n",
       "      <th>2</th>\n",
       "      <td>0.82</td>\n",
       "      <td>0.5</td>\n",
       "      <td>1.64</td>\n",
       "      <td>0.484</td>\n",
       "      <td>1.710</td>\n",
       "    </tr>\n",
       "    <tr>\n",
       "      <th>3</th>\n",
       "      <td>0.39</td>\n",
       "      <td>0.5</td>\n",
       "      <td>0.78</td>\n",
       "      <td>0.230</td>\n",
       "      <td>0.813</td>\n",
       "    </tr>\n",
       "    <tr>\n",
       "      <th>4</th>\n",
       "      <td>0.36</td>\n",
       "      <td>0.5</td>\n",
       "      <td>0.72</td>\n",
       "      <td>0.213</td>\n",
       "      <td>0.751</td>\n",
       "    </tr>\n",
       "    <tr>\n",
       "      <th>5</th>\n",
       "      <td>-4.36</td>\n",
       "      <td>0.5</td>\n",
       "      <td>-8.72</td>\n",
       "      <td>-2.575</td>\n",
       "      <td>-9.092</td>\n",
       "    </tr>\n",
       "    <tr>\n",
       "      <th>6</th>\n",
       "      <td>0.25</td>\n",
       "      <td>0.5</td>\n",
       "      <td>0.50</td>\n",
       "      <td>0.148</td>\n",
       "      <td>0.521</td>\n",
       "    </tr>\n",
       "    <tr>\n",
       "      <th>7</th>\n",
       "      <td>1.59</td>\n",
       "      <td>0.5</td>\n",
       "      <td>3.18</td>\n",
       "      <td>0.939</td>\n",
       "      <td>3.316</td>\n",
       "    </tr>\n",
       "    <tr>\n",
       "      <th>8</th>\n",
       "      <td>1.75</td>\n",
       "      <td>0.5</td>\n",
       "      <td>3.50</td>\n",
       "      <td>1.033</td>\n",
       "      <td>3.649</td>\n",
       "    </tr>\n",
       "    <tr>\n",
       "      <th>9</th>\n",
       "      <td>0.41</td>\n",
       "      <td>0.5</td>\n",
       "      <td>0.82</td>\n",
       "      <td>0.242</td>\n",
       "      <td>0.855</td>\n",
       "    </tr>\n",
       "  </tbody>\n",
       "</table>\n",
       "</div>"
      ],
      "text/plain": [
       "   Электроэнергиия Мвт*ч  Интервал времени  P,Мвт  Q,МВАр  S,МВA\n",
       "0                   0.73               0.5   1.46   0.431  1.522\n",
       "1                   0.94               0.5   1.88   0.555  1.960\n",
       "2                   0.82               0.5   1.64   0.484  1.710\n",
       "3                   0.39               0.5   0.78   0.230  0.813\n",
       "4                   0.36               0.5   0.72   0.213  0.751\n",
       "5                  -4.36               0.5  -8.72  -2.575 -9.092\n",
       "6                   0.25               0.5   0.50   0.148  0.521\n",
       "7                   1.59               0.5   3.18   0.939  3.316\n",
       "8                   1.75               0.5   3.50   1.033  3.649\n",
       "9                   0.41               0.5   0.82   0.242  0.855"
      ]
     },
     "execution_count": 7,
     "metadata": {},
     "output_type": "execute_result"
    }
   ],
   "source": [
    "df_35_5 = pd.DataFrame({\n",
    "    \"Электроэнергиия Мвт*ч\": nagryzka(),\n",
    "    \"Интервал времени\":interval(),\n",
    "})\n",
    "df_35_5[\"Электроэнергиия Мвт*ч\"][5] = -nagryzka_revers()[0]\n",
    "df_35_5[\"P,Мвт\"] = df_35_5[\"Электроэнергиия Мвт*ч\"]/df_35_5[\"Интервал времени\"]\n",
    "df_35_5[\"Q,МВАр\"] = np.round(df_35_5[\"P,Мвт\"] * np.tan(np.radians(round(random.uniform(13, 22),2))),3)\n",
    "df_35_5[\"S,МВA\"] = np.round(pow(df_35_5[\"Q,МВАр\"]**2 + df_35_5[\"P,Мвт\"]**2,0.5),3)*df_35_5[\"Q,МВАр\"]/abs(df_35_5[\"Q,МВАр\"])\n",
    "df_35_5"
   ]
  },
  {
   "cell_type": "code",
   "execution_count": 8,
   "id": "1523fcbe",
   "metadata": {},
   "outputs": [
    {
     "data": {
      "text/plain": [
       "<AxesSubplot:xlabel='Интервал времени'>"
      ]
     },
     "execution_count": 8,
     "metadata": {},
     "output_type": "execute_result"
    },
    {
     "data": {
      "image/png": "[encoded data removed]",
      "text/plain": [
       "<Figure size 432x288 with 1 Axes>"
      ]
     },
     "metadata": {
      "needs_background": "light"
     },
     "output_type": "display_data"
    }
   ],
   "source": [
    "df_35_5.plot.bar(y = \"Электроэнергиия Мвт*ч\",x =\"Интервал времени\")"
   ]
  },
  {
   "cell_type": "markdown",
   "id": "1132c345",
   "metadata": {},
   "source": [
    "ПС-6"
   ]
  },
  {
   "cell_type": "code",
   "execution_count": 9,
   "id": "f01c653b",
   "metadata": {},
   "outputs": [
    {
     "data": {
      "text/html": [
       "<div>\n",
       "<style scoped>\n",
       "    .dataframe tbody tr th:only-of-type {\n",
       "        vertical-align: middle;\n",
       "    }\n",
       "\n",
       "    .dataframe tbody tr th {\n",
       "        vertical-align: top;\n",
       "    }\n",
       "\n",
       "    .dataframe thead th {\n",
       "        text-align: right;\n",
       "    }\n",
       "</style>\n",
       "<table border=\"1\" class=\"dataframe\">\n",
       "  <thead>\n",
       "    <tr style=\"text-align: right;\">\n",
       "      <th></th>\n",
       "      <th>Электроэнергиия Мвт*ч</th>\n",
       "      <th>Интервал времени</th>\n",
       "      <th>P,Мвт</th>\n",
       "      <th>Q,МВАр</th>\n",
       "      <th>S,МВA</th>\n",
       "    </tr>\n",
       "  </thead>\n",
       "  <tbody>\n",
       "    <tr>\n",
       "      <th>0</th>\n",
       "      <td>0.76</td>\n",
       "      <td>0.5</td>\n",
       "      <td>1.52</td>\n",
       "      <td>0.405</td>\n",
       "      <td>1.573</td>\n",
       "    </tr>\n",
       "    <tr>\n",
       "      <th>1</th>\n",
       "      <td>0.64</td>\n",
       "      <td>0.5</td>\n",
       "      <td>1.28</td>\n",
       "      <td>0.341</td>\n",
       "      <td>1.325</td>\n",
       "    </tr>\n",
       "    <tr>\n",
       "      <th>2</th>\n",
       "      <td>1.25</td>\n",
       "      <td>0.5</td>\n",
       "      <td>2.50</td>\n",
       "      <td>0.666</td>\n",
       "      <td>2.587</td>\n",
       "    </tr>\n",
       "    <tr>\n",
       "      <th>3</th>\n",
       "      <td>0.33</td>\n",
       "      <td>0.5</td>\n",
       "      <td>0.66</td>\n",
       "      <td>0.176</td>\n",
       "      <td>0.683</td>\n",
       "    </tr>\n",
       "    <tr>\n",
       "      <th>4</th>\n",
       "      <td>1.66</td>\n",
       "      <td>0.5</td>\n",
       "      <td>3.32</td>\n",
       "      <td>0.884</td>\n",
       "      <td>3.436</td>\n",
       "    </tr>\n",
       "    <tr>\n",
       "      <th>5</th>\n",
       "      <td>-5.08</td>\n",
       "      <td>0.5</td>\n",
       "      <td>-10.16</td>\n",
       "      <td>-2.705</td>\n",
       "      <td>-10.514</td>\n",
       "    </tr>\n",
       "    <tr>\n",
       "      <th>6</th>\n",
       "      <td>0.35</td>\n",
       "      <td>0.5</td>\n",
       "      <td>0.70</td>\n",
       "      <td>0.186</td>\n",
       "      <td>0.724</td>\n",
       "    </tr>\n",
       "    <tr>\n",
       "      <th>7</th>\n",
       "      <td>0.18</td>\n",
       "      <td>0.5</td>\n",
       "      <td>0.36</td>\n",
       "      <td>0.096</td>\n",
       "      <td>0.373</td>\n",
       "    </tr>\n",
       "    <tr>\n",
       "      <th>8</th>\n",
       "      <td>1.86</td>\n",
       "      <td>0.5</td>\n",
       "      <td>3.72</td>\n",
       "      <td>0.991</td>\n",
       "      <td>3.850</td>\n",
       "    </tr>\n",
       "    <tr>\n",
       "      <th>9</th>\n",
       "      <td>0.37</td>\n",
       "      <td>0.5</td>\n",
       "      <td>0.74</td>\n",
       "      <td>0.197</td>\n",
       "      <td>0.766</td>\n",
       "    </tr>\n",
       "  </tbody>\n",
       "</table>\n",
       "</div>"
      ],
      "text/plain": [
       "   Электроэнергиия Мвт*ч  Интервал времени  P,Мвт  Q,МВАр   S,МВA\n",
       "0                   0.76               0.5   1.52   0.405   1.573\n",
       "1                   0.64               0.5   1.28   0.341   1.325\n",
       "2                   1.25               0.5   2.50   0.666   2.587\n",
       "3                   0.33               0.5   0.66   0.176   0.683\n",
       "4                   1.66               0.5   3.32   0.884   3.436\n",
       "5                  -5.08               0.5 -10.16  -2.705 -10.514\n",
       "6                   0.35               0.5   0.70   0.186   0.724\n",
       "7                   0.18               0.5   0.36   0.096   0.373\n",
       "8                   1.86               0.5   3.72   0.991   3.850\n",
       "9                   0.37               0.5   0.74   0.197   0.766"
      ]
     },
     "execution_count": 9,
     "metadata": {},
     "output_type": "execute_result"
    }
   ],
   "source": [
    "df_35_6 = pd.DataFrame({\n",
    "    \"Электроэнергиия Мвт*ч\": nagryzka(),\n",
    "    \"Интервал времени\":interval(),\n",
    "})\n",
    "df_35_6[\"Электроэнергиия Мвт*ч\"][5] = -nagryzka_revers()[0]\n",
    "df_35_6[\"P,Мвт\"] = df_35_6[\"Электроэнергиия Мвт*ч\"]/df_35_6[\"Интервал времени\"]\n",
    "df_35_6[\"Q,МВАр\"] = np.round(df_35_6[\"P,Мвт\"] * np.tan(np.radians(round(random.uniform(13, 22),2))),3)\n",
    "df_35_6[\"S,МВA\"] = np.round(pow(df_35_6[\"Q,МВАр\"]**2 + df_35_6[\"P,Мвт\"]**2,0.5),3)*df_35_6[\"Q,МВАр\"]/abs(df_35_6[\"Q,МВАр\"])\n",
    "df_35_6"
   ]
  },
  {
   "cell_type": "code",
   "execution_count": 10,
   "id": "f54c09b7",
   "metadata": {},
   "outputs": [
    {
     "data": {
      "text/plain": [
       "<AxesSubplot:xlabel='Интервал времени'>"
      ]
     },
     "execution_count": 10,
     "metadata": {},
     "output_type": "execute_result"
    },
    {
     "data": {
      "image/png": "[encoded data removed]",
      "text/plain": [
       "<Figure size 432x288 with 1 Axes>"
      ]
     },
     "metadata": {
      "needs_background": "light"
     },
     "output_type": "display_data"
    }
   ],
   "source": [
    "df_35_6.plot.bar(y = \"Электроэнергиия Мвт*ч\",x =\"Интервал времени\")"
   ]
  },
  {
   "cell_type": "markdown",
   "id": "cef125c7",
   "metadata": {},
   "source": [
    "ПС-7"
   ]
  },
  {
   "cell_type": "code",
   "execution_count": 11,
   "id": "bc9d23b4",
   "metadata": {},
   "outputs": [
    {
     "data": {
      "text/html": [
       "<div>\n",
       "<style scoped>\n",
       "    .dataframe tbody tr th:only-of-type {\n",
       "        vertical-align: middle;\n",
       "    }\n",
       "\n",
       "    .dataframe tbody tr th {\n",
       "        vertical-align: top;\n",
       "    }\n",
       "\n",
       "    .dataframe thead th {\n",
       "        text-align: right;\n",
       "    }\n",
       "</style>\n",
       "<table border=\"1\" class=\"dataframe\">\n",
       "  <thead>\n",
       "    <tr style=\"text-align: right;\">\n",
       "      <th></th>\n",
       "      <th>Электроэнергиия Мвт*ч</th>\n",
       "      <th>Интервал времени</th>\n",
       "      <th>P,Мвт</th>\n",
       "      <th>Q,МВАр</th>\n",
       "      <th>S,МВA</th>\n",
       "    </tr>\n",
       "  </thead>\n",
       "  <tbody>\n",
       "    <tr>\n",
       "      <th>0</th>\n",
       "      <td>1.75</td>\n",
       "      <td>0.5</td>\n",
       "      <td>3.50</td>\n",
       "      <td>1.042730</td>\n",
       "      <td>3.652025</td>\n",
       "    </tr>\n",
       "    <tr>\n",
       "      <th>1</th>\n",
       "      <td>1.20</td>\n",
       "      <td>0.5</td>\n",
       "      <td>2.40</td>\n",
       "      <td>0.715015</td>\n",
       "      <td>2.504246</td>\n",
       "    </tr>\n",
       "    <tr>\n",
       "      <th>2</th>\n",
       "      <td>1.20</td>\n",
       "      <td>0.5</td>\n",
       "      <td>2.40</td>\n",
       "      <td>0.715015</td>\n",
       "      <td>2.504246</td>\n",
       "    </tr>\n",
       "    <tr>\n",
       "      <th>3</th>\n",
       "      <td>0.46</td>\n",
       "      <td>0.5</td>\n",
       "      <td>0.92</td>\n",
       "      <td>0.274089</td>\n",
       "      <td>0.959961</td>\n",
       "    </tr>\n",
       "    <tr>\n",
       "      <th>4</th>\n",
       "      <td>0.21</td>\n",
       "      <td>0.5</td>\n",
       "      <td>0.42</td>\n",
       "      <td>0.125128</td>\n",
       "      <td>0.438243</td>\n",
       "    </tr>\n",
       "    <tr>\n",
       "      <th>5</th>\n",
       "      <td>0.54</td>\n",
       "      <td>0.5</td>\n",
       "      <td>1.08</td>\n",
       "      <td>0.321757</td>\n",
       "      <td>1.126911</td>\n",
       "    </tr>\n",
       "    <tr>\n",
       "      <th>6</th>\n",
       "      <td>1.56</td>\n",
       "      <td>0.5</td>\n",
       "      <td>3.12</td>\n",
       "      <td>0.929519</td>\n",
       "      <td>3.255519</td>\n",
       "    </tr>\n",
       "    <tr>\n",
       "      <th>7</th>\n",
       "      <td>0.51</td>\n",
       "      <td>0.5</td>\n",
       "      <td>1.02</td>\n",
       "      <td>0.303881</td>\n",
       "      <td>1.064304</td>\n",
       "    </tr>\n",
       "    <tr>\n",
       "      <th>8</th>\n",
       "      <td>1.44</td>\n",
       "      <td>0.5</td>\n",
       "      <td>2.88</td>\n",
       "      <td>0.858018</td>\n",
       "      <td>3.005095</td>\n",
       "    </tr>\n",
       "    <tr>\n",
       "      <th>9</th>\n",
       "      <td>1.05</td>\n",
       "      <td>0.5</td>\n",
       "      <td>2.10</td>\n",
       "      <td>0.625638</td>\n",
       "      <td>2.191215</td>\n",
       "    </tr>\n",
       "  </tbody>\n",
       "</table>\n",
       "</div>"
      ],
      "text/plain": [
       "   Электроэнергиия Мвт*ч  Интервал времени  P,Мвт    Q,МВАр     S,МВA\n",
       "0                   1.75               0.5   3.50  1.042730  3.652025\n",
       "1                   1.20               0.5   2.40  0.715015  2.504246\n",
       "2                   1.20               0.5   2.40  0.715015  2.504246\n",
       "3                   0.46               0.5   0.92  0.274089  0.959961\n",
       "4                   0.21               0.5   0.42  0.125128  0.438243\n",
       "5                   0.54               0.5   1.08  0.321757  1.126911\n",
       "6                   1.56               0.5   3.12  0.929519  3.255519\n",
       "7                   0.51               0.5   1.02  0.303881  1.064304\n",
       "8                   1.44               0.5   2.88  0.858018  3.005095\n",
       "9                   1.05               0.5   2.10  0.625638  2.191215"
      ]
     },
     "execution_count": 11,
     "metadata": {},
     "output_type": "execute_result"
    }
   ],
   "source": [
    "df_35_7 = pd.DataFrame({\n",
    "    \"Электроэнергиия Мвт*ч\": nagryzka(),\n",
    "    \"Интервал времени\":interval(),\n",
    "})\n",
    "df_35_7[\"P,Мвт\"] = df_35_7[\"Электроэнергиия Мвт*ч\"]/df_35_7[\"Интервал времени\"]\n",
    "df_35_7[\"Q,МВАр\"] = df_35_7[\"P,Мвт\"] * np.tan(np.radians(round(random.uniform(13, 22),2)))\n",
    "df_35_7[\"S,МВA\"] = pow(df_35_7[\"Q,МВАр\"]**2 + df_35_7[\"P,Мвт\"]**2,0.5)\n",
    "df_35_7"
   ]
  },
  {
   "cell_type": "code",
   "execution_count": 12,
   "id": "d319ecea",
   "metadata": {},
   "outputs": [
    {
     "data": {
      "text/plain": [
       "<AxesSubplot:xlabel='Интервал времени'>"
      ]
     },
     "execution_count": 12,
     "metadata": {},
     "output_type": "execute_result"
    },
    {
     "data": {
      "image/png": "[encoded data removed]",
      "text/plain": [
       "<Figure size 432x288 with 1 Axes>"
      ]
     },
     "metadata": {
      "needs_background": "light"
     },
     "output_type": "display_data"
    }
   ],
   "source": [
    "df_35_7.plot.bar(y = \"Электроэнергиия Мвт*ч\",x =\"Интервал времени\")"
   ]
  },
  {
   "cell_type": "code",
   "execution_count": 13,
   "id": "f9031878",
   "metadata": {},
   "outputs": [],
   "source": [
    "df_35_7.to_excel(\"ПС_7.xlsx\",index=False)\n",
    "df_35_6.to_excel(\"ПС_6.xlsx\",index=False)\n",
    "df_35_5.to_excel(\"ПС_5.xlsx\",index=False)\n",
    "df_35_4.to_excel(\"ПС_4.xlsx\",index=False)\n",
    "df_35_3.to_excel(\"ПС_3.xlsx\",index=False)"
   ]
  },
  {
   "cell_type": "code",
   "execution_count": 14,
   "id": "983a92b9",
   "metadata": {},
   "outputs": [
    {
     "data": {
      "text/html": [
       "<div>\n",
       "<style scoped>\n",
       "    .dataframe tbody tr th:only-of-type {\n",
       "        vertical-align: middle;\n",
       "    }\n",
       "\n",
       "    .dataframe tbody tr th {\n",
       "        vertical-align: top;\n",
       "    }\n",
       "\n",
       "    .dataframe thead th {\n",
       "        text-align: right;\n",
       "    }\n",
       "</style>\n",
       "<table border=\"1\" class=\"dataframe\">\n",
       "  <thead>\n",
       "    <tr style=\"text-align: right;\">\n",
       "      <th></th>\n",
       "      <th>Электроэнергиия Мвт*ч</th>\n",
       "      <th>Интервал времени</th>\n",
       "      <th>P,Мвт</th>\n",
       "      <th>Q,МВАр</th>\n",
       "      <th>S,МВA</th>\n",
       "    </tr>\n",
       "  </thead>\n",
       "  <tbody>\n",
       "    <tr>\n",
       "      <th>0</th>\n",
       "      <td>6.23</td>\n",
       "      <td>0.5</td>\n",
       "      <td>12.46</td>\n",
       "      <td>4.054693</td>\n",
       "      <td>13.112587</td>\n",
       "    </tr>\n",
       "    <tr>\n",
       "      <th>1</th>\n",
       "      <td>3.40</td>\n",
       "      <td>0.5</td>\n",
       "      <td>6.80</td>\n",
       "      <td>2.056176</td>\n",
       "      <td>7.107136</td>\n",
       "    </tr>\n",
       "    <tr>\n",
       "      <th>2</th>\n",
       "      <td>6.81</td>\n",
       "      <td>0.5</td>\n",
       "      <td>13.62</td>\n",
       "      <td>4.451750</td>\n",
       "      <td>14.341313</td>\n",
       "    </tr>\n",
       "    <tr>\n",
       "      <th>3</th>\n",
       "      <td>4.32</td>\n",
       "      <td>0.5</td>\n",
       "      <td>8.64</td>\n",
       "      <td>3.000433</td>\n",
       "      <td>9.152868</td>\n",
       "    </tr>\n",
       "    <tr>\n",
       "      <th>4</th>\n",
       "      <td>5.07</td>\n",
       "      <td>0.5</td>\n",
       "      <td>10.14</td>\n",
       "      <td>3.240152</td>\n",
       "      <td>10.654839</td>\n",
       "    </tr>\n",
       "    <tr>\n",
       "      <th>5</th>\n",
       "      <td>-5.77</td>\n",
       "      <td>0.5</td>\n",
       "      <td>-11.54</td>\n",
       "      <td>-2.659275</td>\n",
       "      <td>-11.808276</td>\n",
       "    </tr>\n",
       "    <tr>\n",
       "      <th>6</th>\n",
       "      <td>3.85</td>\n",
       "      <td>0.5</td>\n",
       "      <td>7.70</td>\n",
       "      <td>2.485306</td>\n",
       "      <td>8.095683</td>\n",
       "    </tr>\n",
       "    <tr>\n",
       "      <th>7</th>\n",
       "      <td>4.24</td>\n",
       "      <td>0.5</td>\n",
       "      <td>8.48</td>\n",
       "      <td>2.819199</td>\n",
       "      <td>8.944429</td>\n",
       "    </tr>\n",
       "    <tr>\n",
       "      <th>8</th>\n",
       "      <td>6.07</td>\n",
       "      <td>0.5</td>\n",
       "      <td>12.14</td>\n",
       "      <td>3.624074</td>\n",
       "      <td>12.675541</td>\n",
       "    </tr>\n",
       "    <tr>\n",
       "      <th>9</th>\n",
       "      <td>4.26</td>\n",
       "      <td>0.5</td>\n",
       "      <td>8.52</td>\n",
       "      <td>2.829919</td>\n",
       "      <td>8.984493</td>\n",
       "    </tr>\n",
       "  </tbody>\n",
       "</table>\n",
       "</div>"
      ],
      "text/plain": [
       "   Электроэнергиия Мвт*ч  Интервал времени  P,Мвт    Q,МВАр      S,МВA\n",
       "0                   6.23               0.5  12.46  4.054693  13.112587\n",
       "1                   3.40               0.5   6.80  2.056176   7.107136\n",
       "2                   6.81               0.5  13.62  4.451750  14.341313\n",
       "3                   4.32               0.5   8.64  3.000433   9.152868\n",
       "4                   5.07               0.5  10.14  3.240152  10.654839\n",
       "5                  -5.77               0.5 -11.54 -2.659275 -11.808276\n",
       "6                   3.85               0.5   7.70  2.485306   8.095683\n",
       "7                   4.24               0.5   8.48  2.819199   8.944429\n",
       "8                   6.07               0.5  12.14  3.624074  12.675541\n",
       "9                   4.26               0.5   8.52  2.829919   8.984493"
      ]
     },
     "execution_count": 14,
     "metadata": {},
     "output_type": "execute_result"
    }
   ],
   "source": [
    "df_sum = df_35_3+df_35_4+df_35_5+df_35_6+df_35_7\n",
    "df_sum[\"Интервал времени\"] = df_sum[\"Интервал времени\"]/(len(df_sum[\"Интервал времени\"])*0.5)\n",
    "df_sum"
   ]
  },
  {
   "cell_type": "code",
   "execution_count": 15,
   "id": "60298efe",
   "metadata": {},
   "outputs": [
    {
     "data": {
      "text/plain": [
       "<AxesSubplot:xlabel='Интервал времени'>"
      ]
     },
     "execution_count": 15,
     "metadata": {},
     "output_type": "execute_result"
    },
    {
     "data": {
      "image/png": "[encoded data removed]",
      "text/plain": [
       "<Figure size 432x288 with 1 Axes>"
      ]
     },
     "metadata": {
      "needs_background": "light"
     },
     "output_type": "display_data"
    }
   ],
   "source": [
    "df_sum.plot.bar(y = \"Электроэнергиия Мвт*ч\",x =\"Интервал времени\")"
   ]
  },
  {
   "cell_type": "code",
   "execution_count": 16,
   "id": "2d8f4114",
   "metadata": {},
   "outputs": [],
   "source": [
    "df_sum.to_excel(\"ЦП.xlsx\",index=False)"
   ]
  },
  {
   "cell_type": "markdown",
   "id": "6f52f02e",
   "metadata": {},
   "source": [
    "\n",
    "# Если все создано было"
   ]
  },
  {
   "cell_type": "code",
   "execution_count": null,
   "id": "d2fed2e4",
   "metadata": {},
   "outputs": [],
   "source": [
    "df_35_3 = pd.read_excel(\"ПС_3.xlsx\")\n",
    "df_35_4 = pd.read_excel(\"ПС_4.xlsx\")\n",
    "df_35_5 = pd.read_excel(\"ПС_5.xlsx\")\n",
    "df_35_6 = pd.read_excel(\"ПС_6.xlsx\")\n",
    "df_35_7 = pd.read_excel(\"ПС_7.xlsx\")\n",
    "df_sum = pd.read_excel(\"ЦП.xlsx\")"
   ]
  },
  {
   "cell_type": "code",
   "execution_count": 17,
   "id": "666b174b",
   "metadata": {},
   "outputs": [
    {
     "data": {
      "text/plain": [
       "'C:\\\\Users\\\\kiril\\\\Мой диплом\\\\проект'"
      ]
     },
     "execution_count": 17,
     "metadata": {},
     "output_type": "execute_result"
    }
   ],
   "source": [
    "newpath = \"Rastr_files\"\n",
    "past_cwd = os.getcwd()\n",
    "past_cwd"
   ]
  },
  {
   "cell_type": "code",
   "execution_count": 18,
   "id": "2e7d1d7c",
   "metadata": {},
   "outputs": [],
   "source": [
    "if not os.path.exists(newpath):\n",
    "    os.makedirs(newpath)\n",
    "    os.chdir(newpath)\n",
    "    for i in range(10):\n",
    "         new_data = pd.DataFrame(columns=[\"P,Мвт\",\"Q,МВАр\"])\n",
    "         new_data = new_data.append(df_35_3[[\"P,Мвт\",\"Q,МВАр\"]].iloc[i:i+1])\n",
    "         new_data = new_data.append(df_35_4[[\"P,Мвт\",\"Q,МВАр\"]].iloc[i:i+1])\n",
    "         new_data = new_data.append(df_35_5[[\"P,Мвт\",\"Q,МВАр\"]].iloc[i:i+1])\n",
    "         new_data = new_data.append(df_35_6[[\"P,Мвт\",\"Q,МВАр\"]].iloc[i:i+1])\n",
    "         new_data = new_data.append(df_35_7[[\"P,Мвт\",\"Q,МВАр\"]].iloc[i:i+1])\n",
    "         new_data.to_excel(f\"Rastr_{i+1}.xlsx\",index=False)\n",
    "else:\n",
    "    os.chdir(newpath)\n",
    "    for i in range(10):\n",
    "         new_data = pd.DataFrame(columns=[\"P,Мвт\",\"Q,МВАр\"])\n",
    "         new_data = new_data.append(df_35_3[[\"P,Мвт\",\"Q,МВАр\"]].iloc[i:i+1])\n",
    "         new_data = new_data.append(df_35_4[[\"P,Мвт\",\"Q,МВАр\"]].iloc[i:i+1])\n",
    "         new_data = new_data.append(df_35_5[[\"P,Мвт\",\"Q,МВАр\"]].iloc[i:i+1])\n",
    "         new_data = new_data.append(df_35_6[[\"P,Мвт\",\"Q,МВАр\"]].iloc[i:i+1])\n",
    "         new_data = new_data.append(df_35_7[[\"P,Мвт\",\"Q,МВАр\"]].iloc[i:i+1])\n",
    "         new_data.to_excel(f\"Rastr_{i+1}.xlsx\",index=False)\n",
    "            \n",
    "os.chdir(past_cwd)"
   ]
  },
  {
   "cell_type": "code",
   "execution_count": 19,
   "id": "04c4f62d",
   "metadata": {},
   "outputs": [],
   "source": [
    "newpath = \"Метод_средних_нагрузок_Rastr\""
   ]
  },
  {
   "cell_type": "code",
   "execution_count": 20,
   "id": "9bbb8fcc",
   "metadata": {},
   "outputs": [],
   "source": [
    "if not os.path.exists(newpath):\n",
    "    os.makedirs(newpath)\n",
    "    os.chdir(newpath)\n",
    "    new_data = pd.DataFrame(columns=[\"P,Мвт\",\"Q,МВАр\"])\n",
    "    new_data = new_data.append(df_35_3[[\"P,Мвт\",\"Q,МВАр\"]].mean(),ignore_index=True)\n",
    "    new_data = new_data.append(df_35_4[[\"P,Мвт\",\"Q,МВАр\"]].mean(),ignore_index=True)\n",
    "    new_data = new_data.append(df_35_5[[\"P,Мвт\",\"Q,МВАр\"]].mean(),ignore_index=True)\n",
    "    new_data = new_data.append(df_35_6[[\"P,Мвт\",\"Q,МВАр\"]].mean(),ignore_index=True)\n",
    "    new_data = new_data.append(df_35_7[[\"P,Мвт\",\"Q,МВАр\"]].mean(),ignore_index=True)\n",
    "    new_data.index = [\"ПС_3\",\"ПС_4\",\"ПС_5\",\"ПС_6\",\"ПС_7\"]\n",
    "    new_data.to_excel(\"Средние_нагрузки.xlsx\")\n",
    "else:\n",
    "    os.chdir(newpath)\n",
    "    new_data = pd.DataFrame(columns=[\"P,Мвт\",\"Q,МВАр\"])\n",
    "    new_data = new_data.append(df_35_3[[\"P,Мвт\",\"Q,МВАр\"]].mean(),ignore_index=True)\n",
    "    new_data = new_data.append(df_35_4[[\"P,Мвт\",\"Q,МВАр\"]].mean(),ignore_index=True)\n",
    "    new_data = new_data.append(df_35_5[[\"P,Мвт\",\"Q,МВАр\"]].mean(),ignore_index=True)\n",
    "    new_data = new_data.append(df_35_6[[\"P,Мвт\",\"Q,МВАр\"]].mean(),ignore_index=True)\n",
    "    new_data = new_data.append(df_35_7[[\"P,Мвт\",\"Q,МВАр\"]].mean(),ignore_index=True)\n",
    "    new_data.index = [\"ПС_3\",\"ПС_4\",\"ПС_5\",\"ПС_6\",\"ПС_7\"]\n",
    "    new_data.to_excel(\"Средние_нагрузки.xlsx\")\n",
    "            \n",
    "os.chdir(past_cwd)"
   ]
  },
  {
   "cell_type": "markdown",
   "id": "0addfc3a",
   "metadata": {},
   "source": [
    "Коэффициент формы"
   ]
  },
  {
   "cell_type": "markdown",
   "id": "d82cdec4",
   "metadata": {},
   "source": [
    "Отншение среднеквадротичной мощности к ее среднему значению"
   ]
  },
  {
   "cell_type": "markdown",
   "id": "0590b176",
   "metadata": {},
   "source": [
    "Среднеквадратичная мощность"
   ]
  },
  {
   "cell_type": "code",
   "execution_count": 24,
   "id": "94b8de9d",
   "metadata": {},
   "outputs": [
    {
     "data": {
      "text/plain": [
       "10.241128844028864"
      ]
     },
     "execution_count": 24,
     "metadata": {},
     "output_type": "execute_result"
    }
   ],
   "source": [
    "Pcр_кв = pow(sum([i**2 for i in df_sum[\"P,Мвт\"].values])/len(df_sum[\"P,Мвт\"].values),0.5)\n",
    "Pcр_кв"
   ]
  },
  {
   "cell_type": "markdown",
   "id": "93b58177",
   "metadata": {},
   "source": [
    "Среднее значение данной мощности"
   ]
  },
  {
   "cell_type": "code",
   "execution_count": 25,
   "id": "93e71f49",
   "metadata": {},
   "outputs": [
    {
     "data": {
      "text/plain": [
       "7.696000000000001"
      ]
     },
     "execution_count": 25,
     "metadata": {},
     "output_type": "execute_result"
    }
   ],
   "source": [
    "Pcp = df_sum[\"P,Мвт\"].mean()\n",
    "Pcp"
   ]
  },
  {
   "cell_type": "code",
   "execution_count": 26,
   "id": "08cf01b4",
   "metadata": {},
   "outputs": [
    {
     "data": {
      "text/plain": [
       "1.3307080098790103"
      ]
     },
     "execution_count": 26,
     "metadata": {},
     "output_type": "execute_result"
    }
   ],
   "source": [
    "kф = Pcр_кв/Pcp\n",
    "kф"
   ]
  },
  {
   "cell_type": "markdown",
   "id": "41d5fb0e",
   "metadata": {},
   "source": [
    "Потери с Rastr"
   ]
  },
  {
   "cell_type": "code",
   "execution_count": 27,
   "id": "0480ce64",
   "metadata": {},
   "outputs": [],
   "source": [
    "dp = 0.137797774641924"
   ]
  },
  {
   "cell_type": "markdown",
   "id": "df549702",
   "metadata": {},
   "source": [
    "Потери электроэнергии"
   ]
  },
  {
   "cell_type": "code",
   "execution_count": 29,
   "id": "b895bb54",
   "metadata": {},
   "outputs": [
    {
     "data": {
      "text/plain": [
       "1.2200503402659566"
      ]
     },
     "execution_count": 29,
     "metadata": {},
     "output_type": "execute_result"
    }
   ],
   "source": [
    "W = df_sum[\"Интервал времени\"].sum()*dp*kф**2\n",
    "W"
   ]
  }
 ],
 "metadata": {
  "kernelspec": {
   "display_name": "Python 3 (ipykernel)",
   "language": "python",
   "name": "python3"
  },
  "language_info": {
   "codemirror_mode": {
    "name": "ipython",
    "version": 3
   },
   "file_extension": ".py",
   "mimetype": "text/x-python",
   "name": "python",
   "nbconvert_exporter": "python",
   "pygments_lexer": "ipython3",
   "version": "3.9.7"
  }
 },
 "nbformat": 4,
 "nbformat_minor": 5
}
